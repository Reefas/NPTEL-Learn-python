{
 "cells": [
  {
   "cell_type": "markdown",
   "id": "55f8cfac",
   "metadata": {},
   "source": [
    "# Week 1- Introduction to JupyterNotebook"
   ]
  },
  {
   "cell_type": "markdown",
   "id": "6ad0596c",
   "metadata": {},
   "source": [
    "# Heading1"
   ]
  },
  {
   "cell_type": "markdown",
   "id": "fbb2d320",
   "metadata": {},
   "source": [
    "# Heading2"
   ]
  },
  {
   "cell_type": "markdown",
   "id": "ac30903f",
   "metadata": {},
   "source": [
    "## Heading 3"
   ]
  },
  {
   "cell_type": "raw",
   "id": "8dd07421",
   "metadata": {},
   "source": [
    "This is a paragraph"
   ]
  },
  {
   "cell_type": "code",
   "execution_count": 1,
   "id": "98a9f847",
   "metadata": {},
   "outputs": [],
   "source": [
    "#This is a code"
   ]
  },
  {
   "cell_type": "code",
   "execution_count": 2,
   "id": "a3d90787",
   "metadata": {},
   "outputs": [
    {
     "name": "stdout",
     "output_type": "stream",
     "text": [
      "30\n"
     ]
    }
   ],
   "source": [
    "a=10\n",
    "b=20\n",
    "print(a+b)"
   ]
  },
  {
   "cell_type": "markdown",
   "id": "19eca3ef",
   "metadata": {},
   "source": []
  }
 ],
 "metadata": {
  "kernelspec": {
   "display_name": "Python 3 (ipykernel)",
   "language": "python",
   "name": "python3"
  },
  "language_info": {
   "codemirror_mode": {
    "name": "ipython",
    "version": 3
   },
   "file_extension": ".py",
   "mimetype": "text/x-python",
   "name": "python",
   "nbconvert_exporter": "python",
   "pygments_lexer": "ipython3",
   "version": "3.9.12"
  }
 },
 "nbformat": 4,
 "nbformat_minor": 5
}
