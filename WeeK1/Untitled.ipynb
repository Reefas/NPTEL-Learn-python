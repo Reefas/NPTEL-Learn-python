{
 "cells": [
  {
   "cell_type": "markdown",
   "id": "d3425229",
   "metadata": {},
   "source": [
    "# Week 1- Introduction to JupyterNotebook"
   ]
  },
  {
   "cell_type": "markdown",
   "id": "aeeca02e",
   "metadata": {},
   "source": [
    "# Heading1"
   ]
  },
  {
   "cell_type": "markdown",
   "id": "9d3eca1c",
   "metadata": {},
   "source": [
    "# Heading2"
   ]
  },
  {
   "cell_type": "markdown",
   "id": "c17cc221",
   "metadata": {},
   "source": [
    "## Heading 3"
   ]
  },
  {
   "cell_type": "raw",
   "id": "29fc81bf",
   "metadata": {},
   "source": [
    "This is a paragraph"
   ]
  },
  {
   "cell_type": "code",
   "execution_count": 1,
   "id": "a1213dbf",
   "metadata": {},
   "outputs": [],
   "source": [
    "#This is a code"
   ]
  },
  {
   "cell_type": "code",
   "execution_count": 2,
   "id": "70a6d17a",
   "metadata": {},
   "outputs": [
    {
     "name": "stdout",
     "output_type": "stream",
     "text": [
      "30\n"
     ]
    }
   ],
   "source": [
    "a=10\n",
    "b=20\n",
    "print(a+b)"
   ]
  },
  {
   "cell_type": "code",
   "execution_count": null,
   "id": "1942f4e7",
   "metadata": {},
   "outputs": [],
   "source": []
  }
 ],
 "metadata": {
  "kernelspec": {
   "display_name": "Python 3 (ipykernel)",
   "language": "python",
   "name": "python3"
  },
  "language_info": {
   "codemirror_mode": {
    "name": "ipython",
    "version": 3
   },
   "file_extension": ".py",
   "mimetype": "text/x-python",
   "name": "python",
   "nbconvert_exporter": "python",
   "pygments_lexer": "ipython3",
   "version": "3.9.12"
  }
 },
 "nbformat": 4,
 "nbformat_minor": 5
}
