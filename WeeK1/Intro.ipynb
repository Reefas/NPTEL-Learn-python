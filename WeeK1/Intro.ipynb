{
 "cells": [
  {
   "cell_type": "markdown",
   "id": "beee675e",
   "metadata": {},
   "source": [
    "# Week 1- Introduction to JupyterNotebook"
   ]
  },
  {
   "cell_type": "markdown",
   "id": "44a1b06f",
   "metadata": {},
   "source": [
    "# Heading1"
   ]
  },
  {
   "cell_type": "markdown",
   "id": "d9e9b34a",
   "metadata": {},
   "source": [
    "# Heading2"
   ]
  },
  {
   "cell_type": "markdown",
   "id": "16ebd262",
   "metadata": {},
   "source": [
    "## Heading 3"
   ]
  },
  {
   "cell_type": "raw",
   "id": "67e2a18e",
   "metadata": {},
   "source": [
    "This is a paragraph"
   ]
  },
  {
   "cell_type": "code",
   "execution_count": 1,
   "id": "d631b8d0",
   "metadata": {},
   "outputs": [],
   "source": [
    "#This is a code"
   ]
  },
  {
   "cell_type": "code",
   "execution_count": 2,
   "id": "9f0e67b1",
   "metadata": {},
   "outputs": [
    {
     "name": "stdout",
     "output_type": "stream",
     "text": [
      "30\n"
     ]
    }
   ],
   "source": [
    "a=10\n",
    "b=20\n",
    "print(a+b)"
   ]
  },
  {
   "cell_type": "code",
   "execution_count": 3,
   "id": "ab509763",
   "metadata": {},
   "outputs": [
    {
     "name": "stdout",
     "output_type": "stream",
     "text": [
      "test\n"
     ]
    }
   ],
   "source": [
    "print(\"test\")"
   ]
  },
  {
   "cell_type": "code",
   "execution_count": 1,
   "id": "84192b38",
   "metadata": {},
   "outputs": [
    {
     "name": "stdout",
     "output_type": "stream",
     "text": [
      "2>1\n"
     ]
    }
   ],
   "source": [
    "if(2>1):\n",
    "    print(\"2>1\")\n",
    "else:\n",
    "    print(\"Error\")"
   ]
  },
  {
   "cell_type": "code",
   "execution_count": 2,
   "id": "64bd1556",
   "metadata": {},
   "outputs": [
    {
     "name": "stdout",
     "output_type": "stream",
     "text": [
      "Test:2.0\n"
     ]
    }
   ],
   "source": [
    "print(\"Test:2.0\")"
   ]
  },
  {
   "cell_type": "code",
   "execution_count": null,
   "id": "3ffd508f",
   "metadata": {},
   "outputs": [],
   "source": []
  }
 ],
 "metadata": {
  "kernelspec": {
   "display_name": "Python 3 (ipykernel)",
   "language": "python",
   "name": "python3"
  },
  "language_info": {
   "codemirror_mode": {
    "name": "ipython",
    "version": 3
   },
   "file_extension": ".py",
   "mimetype": "text/x-python",
   "name": "python",
   "nbconvert_exporter": "python",
   "pygments_lexer": "ipython3",
   "version": "3.9.12"
  }
 },
 "nbformat": 4,
 "nbformat_minor": 5
}
