{
 "cells": [
  {
   "cell_type": "markdown",
   "id": "4590de36",
   "metadata": {},
   "source": [
    "# Week 1- Introduction to JupyterNotebook"
   ]
  },
  {
   "cell_type": "markdown",
   "id": "3acc547c",
   "metadata": {},
   "source": [
    "# Heading1"
   ]
  },
  {
   "cell_type": "markdown",
   "id": "affd803d",
   "metadata": {},
   "source": [
    "# Heading2"
   ]
  },
  {
   "cell_type": "markdown",
   "id": "15a9e494",
   "metadata": {},
   "source": [
    "## Heading 3"
   ]
  },
  {
   "cell_type": "raw",
   "id": "62954224",
   "metadata": {},
   "source": [
    "This is a paragraph"
   ]
  },
  {
   "cell_type": "code",
   "execution_count": 1,
   "id": "6e6860e2",
   "metadata": {},
   "outputs": [],
   "source": [
    "#This is a code"
   ]
  },
  {
   "cell_type": "code",
   "execution_count": 2,
   "id": "85cbc352",
   "metadata": {},
   "outputs": [
    {
     "name": "stdout",
     "output_type": "stream",
     "text": [
      "30\n"
     ]
    }
   ],
   "source": [
    "a=10\n",
    "b=20\n",
    "print(a+b)"
   ]
  },
  {
   "cell_type": "code",
   "execution_count": 3,
   "id": "e8244a0d",
   "metadata": {},
   "outputs": [
    {
     "name": "stdout",
     "output_type": "stream",
     "text": [
      "test\n"
     ]
    }
   ],
   "source": [
    "print(\"test\")"
   ]
  },
  {
   "cell_type": "markdown",
   "id": "129bf104",
   "metadata": {},
   "source": [
    "# Heading2"
   ]
  },
  {
   "cell_type": "code",
   "execution_count": null,
   "id": "db3eee9c",
   "metadata": {},
   "outputs": [],
   "source": []
  }
 ],
 "metadata": {
  "kernelspec": {
   "display_name": "Python 3 (ipykernel)",
   "language": "python",
   "name": "python3"
  },
  "language_info": {
   "codemirror_mode": {
    "name": "ipython",
    "version": 3
   },
   "file_extension": ".py",
   "mimetype": "text/x-python",
   "name": "python",
   "nbconvert_exporter": "python",
   "pygments_lexer": "ipython3",
   "version": "3.9.12"
  }
 },
 "nbformat": 4,
 "nbformat_minor": 5
}
